{
 "cells": [
  {
   "cell_type": "code",
   "execution_count": 3,
   "metadata": {},
   "outputs": [
    {
     "name": "stdout",
     "output_type": "stream",
     "text": [
      "Dữ liệu đã nhập: xin chao\n"
     ]
    }
   ],
   "source": [
    "data = input(\"Nhập thông tin: \")\n",
    "print(f\"Dữ liệu đã nhập: {data}\")"
   ]
  },
  {
   "cell_type": "code",
   "execution_count": 4,
   "metadata": {},
   "outputs": [
    {
     "name": "stdout",
     "output_type": "stream",
     "text": [
      "Kiểu dữ liệu là: <class 'str'>\n"
     ]
    }
   ],
   "source": [
    "print(f\"Kiểu dữ liệu là: {type(data)}\")"
   ]
  },
  {
   "cell_type": "code",
   "execution_count": 9,
   "metadata": {},
   "outputs": [
    {
     "name": "stdout",
     "output_type": "stream",
     "text": [
      "thông tin thứ 1: sinh nhật\n",
      "thông tin thứ 2: vui vẻ\n",
      "sinh nhật vui vẻ\n"
     ]
    }
   ],
   "source": [
    "input_1 = input(\"Nhập thông tin thứ 1: \")\n",
    "input_2 = input(\"Nhập thông tin thứ 2: \")\n",
    "print(f\"thông tin thứ 1: {input_1}\")\n",
    "print(f\"thông tin thứ 2: {input_2}\")\n",
    "print(input_1 + \" \"+ input_2)"
   ]
  },
  {
   "cell_type": "code",
   "execution_count": 10,
   "metadata": {},
   "outputs": [
    {
     "name": "stdout",
     "output_type": "stream",
     "text": [
      "Xin chào Việt Nam\n"
     ]
    }
   ],
   "source": [
    "print(input(\"Nhập thông tin: \"))"
   ]
  }
 ],
 "metadata": {
  "kernelspec": {
   "display_name": "Python 3",
   "language": "python",
   "name": "python3"
  },
  "language_info": {
   "codemirror_mode": {
    "name": "ipython",
    "version": 3
   },
   "file_extension": ".py",
   "mimetype": "text/x-python",
   "name": "python",
   "nbconvert_exporter": "python",
   "pygments_lexer": "ipython3",
   "version": "3.11.6"
  }
 },
 "nbformat": 4,
 "nbformat_minor": 2
}
